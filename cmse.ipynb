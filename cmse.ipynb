{
 "cells": [
  {
   "cell_type": "code",
   "id": "initial_id",
   "metadata": {
    "collapsed": true,
    "ExecuteTime": {
     "end_time": "2024-12-04T23:08:23.785275Z",
     "start_time": "2024-12-04T23:08:23.777203Z"
    }
   },
   "source": [
    "import pandas as pd\n",
    "import numpy as np\n",
    "from sklearn.preprocessing import StandardScaler\n",
    "from sklearn.pipeline import Pipeline\n",
    "from sklearn.metrics import root_mean_squared_error\n",
    "from sklearn.base import BaseEstimator, RegressorMixin\n",
    "from sklearn.model_selection import train_test_split\n",
    "import random"
   ],
   "outputs": [],
   "execution_count": 2
  },
  {
   "metadata": {
    "ExecuteTime": {
     "end_time": "2024-12-04T23:08:26.728037Z",
     "start_time": "2024-12-04T23:08:26.707469Z"
    }
   },
   "cell_type": "code",
   "source": [
    "class GradientDescentRegressor(BaseEstimator, RegressorMixin):\n",
    "    def __init__(self, lr=0.01, epochs=1000, lambda_reg=0, lasso=False):\n",
    "        self.lr = lr\n",
    "        self.epochs = epochs\n",
    "        self.lambda_reg = lambda_reg\n",
    "        self.lasso = lasso\n",
    "        self.coef_ = None\n",
    "        self.intercept_ = 0\n",
    "\n",
    "    def fit(self, X, y, c):\n",
    "        n_samples, n_features = X.shape\n",
    "        self.coef_ = np.zeros(n_features)\n",
    "        self.intercept_ = 0\n",
    "\n",
    "        for epoch in range(self.epochs):\n",
    "            # Predictions\n",
    "            y_hat = np.dot(X, self.coef_) + self.intercept_\n",
    "\n",
    "            # Gradient\n",
    "            error = y - y_hat\n",
    "            grad = -2 * ((1 - c) * error + c * np.maximum(0, error))\n",
    "            \n",
    "            # Weights/Bias\n",
    "            coef_grad = np.dot(X.T, grad) / n_samples\n",
    "            intercept_grad = np.sum(grad) / n_samples\n",
    "\n",
    "            # Lasso / Ridge\n",
    "            if self.lasso:\n",
    "                coef_grad += self.lambda_reg * np.sign(self.coef_)\n",
    "            else:  # Ridge\n",
    "                coef_grad += self.lambda_reg * self.coef_\n",
    "\n",
    "            # Update weights\n",
    "            self.coef_ -= self.lr * coef_grad\n",
    "            self.intercept_ -= self.lr * intercept_grad\n",
    "\n",
    "            # Compute loss every 100 epochs for tracking\n",
    "            #if epoch % 100 == 0:\n",
    "                #loss = cMSE(y_hat, y, c)\n",
    "                #print(f\"Epoch {epoch}: cMSE Loss = {loss:.4f}\")\n",
    "\n",
    "        return self\n",
    "    \n",
    "    def predict(self, X):\n",
    "        return np.dot(X, self.coef_) + self.intercept_"
   ],
   "id": "83186f8dff1f9ae1",
   "outputs": [],
   "execution_count": 3
  },
  {
   "metadata": {
    "ExecuteTime": {
     "end_time": "2024-12-04T23:08:29.540660Z",
     "start_time": "2024-12-04T23:08:29.533784Z"
    }
   },
   "cell_type": "code",
   "source": [
    "def cMSE(y_hat, y, c):\n",
    "    err = y - y_hat\n",
    "    loss = (1 - c) * err**2 + c * np.maximum(0, err)**2\n",
    "    return np.sum(loss) / len(y)"
   ],
   "id": "3e41c2ac9fa0c0f7",
   "outputs": [],
   "execution_count": 4
  },
  {
   "metadata": {
    "ExecuteTime": {
     "end_time": "2024-12-04T23:08:35.463410Z",
     "start_time": "2024-12-04T23:08:35.445448Z"
    }
   },
   "cell_type": "code",
   "source": [
    "def process_data():\n",
    "    train_path = './Datasets/train_data.csv'\n",
    "    test_path = \"./Datasets/test_data.csv\"\n",
    "    \n",
    "    df_train = pd.read_csv(train_path)\n",
    "    df_test = pd.read_csv(test_path)\n",
    "    \n",
    "    df_test_filled = df_test.fillna(0.0)\n",
    "    df_test_filled.drop('Id', axis=1, inplace=True)\n",
    "    \n",
    "    df_uncensored = df_train[df_train['Censored'] == 0]\n",
    "    df_train_clean = df_uncensored.dropna(subset=['SurvivalTime']).copy()\n",
    "    #df_train_clean = df_train_clean.dropna()\n",
    "    \n",
    "    df_train_clean.loc[:, 'GeneticRisk'] = df_train_clean['GeneticRisk'].fillna(df_train_clean['GeneticRisk'].median())\n",
    "    df_train_clean.loc[:, 'ComorbidityIndex'] = df_train_clean['ComorbidityIndex'].fillna(df_train_clean['ComorbidityIndex'].median())\n",
    "    df_train_clean.loc[:, 'TreatmentResponse'] = df_train_clean['TreatmentResponse'].fillna(df_train_clean['TreatmentResponse'].median())\n",
    "    \n",
    "    df_test_filled.loc[:, 'GeneticRisk'] = df_test_filled['GeneticRisk'].fillna(df_test_filled['GeneticRisk'].median())\n",
    "    df_test_filled.loc[:, 'ComorbidityIndex'] = df_test_filled['ComorbidityIndex'].fillna(df_test_filled['ComorbidityIndex'].median())\n",
    "    df_test_filled.loc[:, 'TreatmentResponse'] = df_test_filled['TreatmentResponse'].fillna(df_test_filled['TreatmentResponse'].median())\n",
    "    \n",
    "    X = df_train_clean.drop(columns=['SurvivalTime', 'Censored', 'Gender', 'GeneticRisk', 'Id'])\n",
    "    \n",
    "    df_test_filled = df_test_filled.drop(columns=['Gender', 'GeneticRisk'])\n",
    "    y = df_train_clean['SurvivalTime']\n",
    "    c = df_train_clean['Censored'].values\n",
    "    \n",
    "    # Split the data into train and test sets --------> FEATURES, TARGETS\n",
    "    X_train, X_test, y_train, y_test, c_train, c_test = train_test_split(X, y, c, test_size=0.2, random_state= random.randint(1, 100))\n",
    "    return X_train, X_test, y_train, y_test, c_train, c_test, df_test_filled"
   ],
   "id": "e5d9af20febf75a",
   "outputs": [],
   "execution_count": 5
  },
  {
   "metadata": {
    "ExecuteTime": {
     "end_time": "2024-12-04T23:08:38.429923Z",
     "start_time": "2024-12-04T23:08:38.422549Z"
    }
   },
   "cell_type": "code",
   "source": [
    "# Create a pipeline with StandardScaler and LinearRegression\n",
    "def create_pipeline(lambda_value, is_ridge):    \n",
    "    pipeline = Pipeline([\n",
    "        ('scaler', StandardScaler()),\n",
    "        ('regressor', GradientDescentRegressor(lr=0.01, epochs=1000, lambda_reg=lambda_value , lasso=is_ridge))  # Ridge regularization\n",
    "    ])\n",
    "    \n",
    "    return pipeline"
   ],
   "id": "fcfa84faceaefae1",
   "outputs": [],
   "execution_count": 6
  },
  {
   "metadata": {
    "ExecuteTime": {
     "end_time": "2024-12-04T23:08:42.862694Z",
     "start_time": "2024-12-04T23:08:42.850706Z"
    }
   },
   "cell_type": "code",
   "source": [
    "def cross_val_cMSE(pipeline, X, y, c, cv=5):\n",
    "    scores = []\n",
    "    fold_size = len(X) // cv\n",
    "\n",
    "    for i in range(cv):\n",
    "        X_val = X[i * fold_size:(i + 1) * fold_size]\n",
    "        y_val = y[i * fold_size:(i + 1) * fold_size]\n",
    "        c_val = c[i * fold_size:(i + 1) * fold_size]\n",
    "\n",
    "        X_train = np.concatenate((X[:i * fold_size], X[(i + 1) * fold_size:]))\n",
    "        y_train = np.concatenate((y[:i * fold_size], y[(i + 1) * fold_size:]))\n",
    "        c_train = np.concatenate((c[:i * fold_size], c[(i + 1) * fold_size:]))\n",
    "\n",
    "        pipeline.fit(X_train, y_train, regressor__c=c_train)\n",
    "        y_val_pred = pipeline.predict(X_val)\n",
    "        scores.append(cMSE(y_val_pred, y_val, c_val))\n",
    "\n",
    "    return scores"
   ],
   "id": "f14d5d02a418743d",
   "outputs": [],
   "execution_count": 7
  },
  {
   "metadata": {
    "ExecuteTime": {
     "end_time": "2024-12-04T23:08:46.580241Z",
     "start_time": "2024-12-04T23:08:46.570149Z"
    }
   },
   "cell_type": "code",
   "source": [
    "def train_and_predict(lambda_value, is_ridge):\n",
    "\n",
    "    #Fazer um split novo\n",
    "    X_train, X_test, y_train, y_test, c_train, c_test, df_test_filled = process_data()\n",
    "    \n",
    "    #Fazer um pipeline novo\n",
    "    pipeline = create_pipeline(lambda_value, is_ridge)\n",
    "    \n",
    "    cv_scores = cross_val_cMSE(pipeline, X_train.to_numpy(), y_train.to_numpy(), c_train, cv=5)\n",
    "    cv_score = np.sqrt(np.mean(cv_scores))\n",
    "    \n",
    "    # Treinar o modelo novo\n",
    "    pipeline.fit(X_train, y_train, regressor__c=c_train)\n",
    "    \n",
    "    #Fazer predicts com o modelo novo\n",
    "    y_pred = pipeline.predict(X_test)\n",
    "    y_submission = pipeline.predict(df_test_filled)\n",
    "    \n",
    "    error = root_mean_squared_error(y_pred, y_test)    \n",
    "    test_cMSE = cMSE(y_pred, y_test.values, c_test)\n",
    "    \n",
    "    return cv_score, error, test_cMSE, y_submission\n"
   ],
   "id": "4136265265a22144",
   "outputs": [],
   "execution_count": 8
  },
  {
   "metadata": {
    "ExecuteTime": {
     "end_time": "2024-12-04T23:13:39.583119Z",
     "start_time": "2024-12-04T23:08:56.958839Z"
    }
   },
   "cell_type": "code",
   "source": [
    "def run_iterations():\n",
    "    iterations = 100\n",
    "    learning_rate = 0.01\n",
    "    lambda_values = [1, 0.1, 0.01]\n",
    "    is_ridge_values = [False]\n",
    "    results = []\n",
    "    counter = 0\n",
    "    min_test_cMSE = 1000000\n",
    "    \n",
    "    for is_ridge in is_ridge_values:\n",
    "        for lambda_value in lambda_values:\n",
    "            for i in range(iterations):\n",
    "                cv_score, error, test_cMSE, y_submission = train_and_predict(lambda_value, is_ridge)\n",
    "                \n",
    "                if test_cMSE < min_test_cMSE:\n",
    "                    min_test_cMSE = test_cMSE\n",
    "                    y_submission_df = pd.DataFrame(y_submission, columns=['Target'])\n",
    "                    y_submission_df['id'] = range(0, len(y_submission_df))\n",
    "                    y_submission_df = y_submission_df[['id'] + [col for col in y_submission_df.columns if col != 'id']]\n",
    "                    y_submission_df.to_csv('cMSE-baseline-submission-00.csv', index=False)   \n",
    "                \n",
    "                regressor_type = \"Ridge\" if is_ridge else \"Lasso\"\n",
    "    \n",
    "                result = (\n",
    "                    f\"Cross-validated RMSE: {cv_score:.4f}\\n\"\n",
    "                    f\"Mean Squared Error (MSE): {error:.6f}\\n\"\n",
    "                    f\"Test cMSE Loss: {test_cMSE:.4f}\\n\"\n",
    "                    f\"Learning Rate: {learning_rate} | Lambda: {lambda_value} | Regressor: {regressor_type}\"\n",
    "                )\n",
    "    \n",
    "                results.append((test_cMSE, result, lambda_value, regressor_type, y_submission))\n",
    "                counter += 1\n",
    "    \n",
    "    print(f\"Total iterations: {counter} \\n\")\n",
    "    \n",
    "    best_results = find_best_results(results)\n",
    "    \n",
    "    print(\"-----------------------\")\n",
    "    print(\"RIDGE\")\n",
    "    print(\"\\n-- Lambda = 1 --\")\n",
    "    print(best_results[\"ridge_lambda_1\"]['result'])\n",
    "    print(\"\\n-- Lambda = 0.1 --\")\n",
    "    print(best_results[\"ridge_lambda_01\"]['result'])\n",
    "    print(\"\\n-- Lambda = 0.01 --\")\n",
    "    print(best_results[\"ridge_lambda_001\"]['result'])\n",
    "    \n",
    "    print(\"\\n-----------------------\")\n",
    "    print(\"LASSO\")\n",
    "    print(\"\\n-- Lambda = 1 --\")\n",
    "    print(best_results[\"lasso_lambda_1\"]['result'])\n",
    "    print(\"\\n-- Lambda = 0.1 --\")\n",
    "    print(best_results[\"lasso_lambda_01\"]['result'])\n",
    "    print(\"\\n-- Lambda = 0.01 --\")\n",
    "    print(best_results[\"lasso_lambda_001\"]['result'])\n",
    "    \n",
    "    for key, value in best_results.items():\n",
    "        if value[\"predictions\"] is not None:\n",
    "            predictions_df = pd.DataFrame(value[\"predictions\"], columns=['Target'])\n",
    "            predictions_df['id'] = range(len(predictions_df))\n",
    "            predictions_df = predictions_df[['id'] + [col for col in predictions_df.columns if col != 'id']]\n",
    "            predictions_df.to_csv(f'{key.replace(\" \", \"_\")}_submission.csv', index=False)\n",
    "    \n",
    "run_iterations()     \n"
   ],
   "id": "db4ee5052ccb6342",
   "outputs": [
    {
     "name": "stdout",
     "output_type": "stream",
     "text": [
      "Total iterations: 300 \n",
      "\n",
      "-----------------------\n",
      "RIDGE\n",
      "\n",
      "-- Lambda = 1 --\n",
      "None\n",
      "\n",
      "-- Lambda = 0.1 --\n",
      "None\n",
      "\n",
      "-- Lambda = 0.01 --\n",
      "None\n",
      "\n",
      "-----------------------\n",
      "LASSO\n",
      "\n",
      "-- Lambda = 1 --\n",
      "Cross-validated RMSE: 2.0224\n",
      "Mean Squared Error (MSE): 1.201050\n",
      "Test cMSE Loss: 1.4425\n",
      "Learning Rate: 0.01 | Lambda: 1 | Regressor: Lasso\n",
      "\n",
      "-- Lambda = 0.1 --\n",
      "Cross-validated RMSE: 2.0193\n",
      "Mean Squared Error (MSE): 1.236705\n",
      "Test cMSE Loss: 1.5294\n",
      "Learning Rate: 0.01 | Lambda: 0.1 | Regressor: Lasso\n",
      "\n",
      "-- Lambda = 0.01 --\n",
      "Cross-validated RMSE: 2.0179\n",
      "Mean Squared Error (MSE): 1.122289\n",
      "Test cMSE Loss: 1.2595\n",
      "Learning Rate: 0.01 | Lambda: 0.01 | Regressor: Lasso\n"
     ]
    }
   ],
   "execution_count": 10
  },
  {
   "metadata": {
    "ExecuteTime": {
     "end_time": "2024-12-04T23:08:50.656066Z",
     "start_time": "2024-12-04T23:08:50.636941Z"
    }
   },
   "cell_type": "code",
   "source": [
    "def find_best_results(results):\n",
    "    best_ridge_lambda_1 = None\n",
    "    best_ridge_lambda_01 = None\n",
    "    best_ridge_lambda_001 = None\n",
    "    best_lasso_lambda_1 = None\n",
    "    best_lasso_lambda_01 = None\n",
    "    best_lasso_lambda_001 = None\n",
    "\n",
    "    for test_cMSE, result, lambda_value, regressor_type, predictions in results:\n",
    "        if regressor_type == \"Ridge\":\n",
    "            if lambda_value == 1:\n",
    "                if best_ridge_lambda_1 is None or test_cMSE < best_ridge_lambda_1[0]:\n",
    "                    best_ridge_lambda_1 = (test_cMSE, result, predictions)\n",
    "            elif lambda_value == 0.1:\n",
    "                if best_ridge_lambda_01 is None or test_cMSE < best_ridge_lambda_01[0]:\n",
    "                    best_ridge_lambda_01 = (test_cMSE, result, predictions)\n",
    "            elif lambda_value == 0.01:\n",
    "                if best_ridge_lambda_001 is None or test_cMSE < best_ridge_lambda_001[0]:\n",
    "                    best_ridge_lambda_001 = (test_cMSE, result, predictions)\n",
    "        elif regressor_type == \"Lasso\":\n",
    "            if lambda_value == 1:\n",
    "                if best_lasso_lambda_1 is None or test_cMSE < best_lasso_lambda_1[0]:\n",
    "                    best_lasso_lambda_1 = (test_cMSE, result, predictions)\n",
    "            elif lambda_value == 0.1:\n",
    "                if best_lasso_lambda_01 is None or test_cMSE < best_lasso_lambda_01[0]:\n",
    "                    best_lasso_lambda_01 = (test_cMSE, result, predictions)\n",
    "            elif lambda_value == 0.01:\n",
    "                if best_lasso_lambda_001 is None or test_cMSE < best_lasso_lambda_001[0]:\n",
    "                    best_lasso_lambda_001 = (test_cMSE, result, predictions)\n",
    "\n",
    "    return {\n",
    "        \"ridge_lambda_1\": {\"result\": best_ridge_lambda_1[1] if best_ridge_lambda_1 else None,\n",
    "                                       \"predictions\": best_ridge_lambda_1[2] if best_ridge_lambda_1 else None},\n",
    "        \"ridge_lambda_01\": {\"result\": best_ridge_lambda_01[1] if best_ridge_lambda_01 else None,\n",
    "                                         \"predictions\": best_ridge_lambda_01[2] if best_ridge_lambda_01 else None},\n",
    "        \"ridge_lambda_001\": {\"result\": best_ridge_lambda_001[1] if best_ridge_lambda_001 else None,\n",
    "                                          \"predictions\": best_ridge_lambda_001[2] if best_ridge_lambda_001 else None},\n",
    "        \"lasso_lambda_1\": {\"result\": best_lasso_lambda_1[1] if best_lasso_lambda_1 else None,\n",
    "                                       \"predictions\": best_lasso_lambda_1[2] if best_lasso_lambda_1 else None},\n",
    "        \"lasso_lambda_01\": {\"result\": best_lasso_lambda_01[1] if best_lasso_lambda_01 else None,\n",
    "                                         \"predictions\": best_lasso_lambda_01[2] if best_lasso_lambda_01 else None},\n",
    "        \"lasso_lambda_001\": {\"result\": best_lasso_lambda_001[1] if best_lasso_lambda_001 else None,\n",
    "                                          \"predictions\": best_lasso_lambda_001[2] if best_lasso_lambda_001 else None}\n",
    "    }\n"
   ],
   "id": "af58fb83f0e64472",
   "outputs": [],
   "execution_count": 9
  }
 ],
 "metadata": {
  "kernelspec": {
   "display_name": "Python 3",
   "language": "python",
   "name": "python3"
  },
  "language_info": {
   "codemirror_mode": {
    "name": "ipython",
    "version": 2
   },
   "file_extension": ".py",
   "mimetype": "text/x-python",
   "name": "python",
   "nbconvert_exporter": "python",
   "pygments_lexer": "ipython2",
   "version": "2.7.6"
  }
 },
 "nbformat": 4,
 "nbformat_minor": 5
}
